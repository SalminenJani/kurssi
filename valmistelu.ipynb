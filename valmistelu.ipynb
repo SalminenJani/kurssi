{
 "cells": [
  {
   "cell_type": "markdown",
   "metadata": {},
   "source": [
    "<h1>Datan valmistelu</h1>\n",
    "\n",
    "Muistettavat funktiot ja ominaisuudet: <b>read_excel(), head(), tail(), shape, columns, rename(), count(), unique(), replace(), cut(), mean(), sum(), notnull(), isnull(), sort_values(), drop()</b> "
   ]
  },
  {
   "cell_type": "markdown",
   "metadata": {},
   "source": [
    "<h2>Ohjelmakirjastot</h2>\n",
    "\n",
    "Aluksi tuodaan (<b>import</b>) tarvittavat kirjastot. Data-analytiikassa tarvitaan aina <b>pandas</b>-kirjastoa. Pandas sisältää <b>dataframe</b>-tietorakenteen, jota tarvitaan taulukkomuotoiselle datalle. Vakiintuneen tavan mukaan käytän pandas-kirjastosta lyhennettä <b>pd</b>."
   ]
  },
  {
   "cell_type": "code",
   "execution_count": null,
   "metadata": {},
   "outputs": [],
   "source": [
    "import pandas as pd"
   ]
  },
  {
   "cell_type": "markdown",
   "metadata": {},
   "source": [
    "<h2>Datan avaaminen</h2>\n",
    "\n",
    "Excel-muotoisen datan voin lukea pandas-kirjaston <b>read_excel()</b>-funktiolla. <b>head()</b>-funktio tulostaa datan viisi ensimmäistä riviä, <b>tail()</b>-funktio tulostaa viisi viimeistä riviä ja <b>shape</b>-ominaisuus antaa datan rivien ja sarakkeiden lukumäärän."
   ]
  },
  {
   "cell_type": "code",
   "execution_count": null,
   "metadata": {},
   "outputs": [],
   "source": [
    "df=pd.read_excel('http://taanila.fi/data1.xlsx', sheet_name='Data')\n",
    "df.head()"
   ]
  },
  {
   "cell_type": "code",
   "execution_count": null,
   "metadata": {},
   "outputs": [],
   "source": [
    "df.tail()"
   ]
  },
  {
   "cell_type": "code",
   "execution_count": null,
   "metadata": {},
   "outputs": [],
   "source": [
    "df.shape"
   ]
  },
  {
   "cell_type": "markdown",
   "metadata": {},
   "source": [
    "<h2>Sarakkeet</h2>\n",
    "\n",
    "Sarakkeiden (muuttujien) nimilistan saan tulostamalla <b>columns</b>-ominaisuuden. Voin vaihtaa muuttujien nimiä sijoittamalla muutetun nimilistan columns-ominaisuuden arvoksi. Muuttujien nimiä voin vahtaa myös <b>rename()</b>-funktiolla.\n",
    "\n",
    "Muuttujien arvojen lukumäärät selviävät <b>count()</b>-funktiolla."
   ]
  },
  {
   "cell_type": "code",
   "execution_count": null,
   "metadata": {},
   "outputs": [],
   "source": [
    "df.columns"
   ]
  },
  {
   "cell_type": "code",
   "execution_count": null,
   "metadata": {},
   "outputs": [],
   "source": [
    "df.columns=['nro', 'sukupuoli', 'ikä', 'perhesuhde', 'koulutus', 'palveluv', 'palkka',\n",
    "       'johto', 'työtov', 'työymp', 'palkkat', 'työteht', 'työterv', 'lomaosa',\n",
    "       'kuntosa', 'hieroja']\n",
    "df.columns"
   ]
  },
  {
   "cell_type": "code",
   "execution_count": null,
   "metadata": {},
   "outputs": [],
   "source": [
    "#Vaihdan muuttujien nimiä\n",
    "df.rename(columns = {'sukupuoli': 'sukup', 'perhesuhde': 'perhe'}, inplace = True)\n",
    "df.head()"
   ]
  },
  {
   "cell_type": "code",
   "execution_count": null,
   "metadata": {},
   "outputs": [],
   "source": [
    "df.count()"
   ]
  },
  {
   "cell_type": "markdown",
   "metadata": {},
   "source": [
    "<h2>Ainutkertaiset arvot</h2>\n",
    "\n",
    "Muuttujan sisältämät ainutkertaiset arvot selviävät <b>unique()</b>-funktiolla. Seuraavassa käydään läpi kaikki muuttujat <b>for</b>-silmukalla."
   ]
  },
  {
   "cell_type": "code",
   "execution_count": null,
   "metadata": {},
   "outputs": [],
   "source": [
    "for var in df:\n",
    "    print(var, pd.unique(df[var]))"
   ]
  },
  {
   "cell_type": "markdown",
   "metadata": {},
   "source": [
    "<h2>Uusien muuttujien laskeminen</h2>\n",
    "\n",
    "<b>replace()</b>-funktiolla korvaan muuttujan arvoja uusilla arvoilla.\n",
    "<b>cut()</b>-funktiolla voin luokittelen määrällisen muuttujan arvot luokkiin.\n",
    "<b>mean()</b> ja <b>sum()</b> -funktioilla voin laskea keskiarvo- ja summamuuttujia (<b>axis=1</b> tarkoittaa laskemista rivien suuntaisesti)."
   ]
  },
  {
   "cell_type": "code",
   "execution_count": null,
   "metadata": {},
   "outputs": [],
   "source": [
    "#Uusi muuttuja 'sukup_teksti', jossa sukupuolet tekstiarvoina\n",
    "df['sukup_teksti']=df['sukup'].replace({1 : 'Mies', 2 : 'Nainen'})\n",
    "df.head(6)"
   ]
  },
  {
   "cell_type": "code",
   "execution_count": null,
   "metadata": {},
   "outputs": [],
   "source": [
    "#Uusi muuttuja 'ikäluokka', jossa iät luokiteltuina ikäluokkiin\n",
    "bins = [18, 28, 38, 48, 58, 68]\n",
    "df['ikäluokka'] = pd.cut(df['ikä'], bins = bins)\n",
    "df.head()"
   ]
  },
  {
   "cell_type": "code",
   "execution_count": null,
   "metadata": {},
   "outputs": [],
   "source": [
    "df['tyytyväisyys']=df[['johto','työtov','työymp','palkkat','työteht']].mean(axis=1)\n",
    "df[['sukup','ikä','tyytyväisyys']].head()"
   ]
  },
  {
   "cell_type": "code",
   "execution_count": null,
   "metadata": {},
   "outputs": [],
   "source": [
    "df['käyttö']=df[['työterv', 'lomaosa', 'kuntosa', 'hieroja']].sum(axis=1)\n",
    "df.head(6)"
   ]
  },
  {
   "cell_type": "markdown",
   "metadata": {},
   "source": [
    "<h2>Poimintaa ja suodatuksia</h2>\n",
    "\n",
    "Voin muodostaa monimutkaisiakin poimintoja <b>&</b>- ja <b>|</b>-operaattoreita käyttäen.\n",
    "\n",
    "<b>notnull()</b>- ja <b>isnull()</b>-funktioilla voin selvittää ei-tyhjät ja tyhjät.\n",
    "\n",
    "<b>sort_values()</b>-funktio järjestää halutun muuttujan suhteen.\n",
    "\n",
    "<b>drop()</b>-funktio pudottaa halutut muuttujat pois datasta."
   ]
  },
  {
   "cell_type": "code",
   "execution_count": null,
   "metadata": {},
   "outputs": [],
   "source": [
    "df[4:6]"
   ]
  },
  {
   "cell_type": "code",
   "execution_count": null,
   "metadata": {},
   "outputs": [],
   "source": [
    "df[df['palkka']>4000]"
   ]
  },
  {
   "cell_type": "code",
   "execution_count": null,
   "metadata": {},
   "outputs": [],
   "source": [
    "df[(df['sukup']==2) & (df['palkkat']<3)]"
   ]
  },
  {
   "cell_type": "code",
   "execution_count": null,
   "metadata": {},
   "outputs": [],
   "source": [
    "df[(df['työterv'].notnull()) & (df['lomaosa'].notnull())]"
   ]
  },
  {
   "cell_type": "code",
   "execution_count": null,
   "metadata": {},
   "outputs": [],
   "source": [
    "df[(df['työterv'].isnull()) & (df['lomaosa'].isnull()) & (df['kuntosa'].isnull()) & (df['hieroja'].isnull())]"
   ]
  },
  {
   "cell_type": "code",
   "execution_count": null,
   "metadata": {},
   "outputs": [],
   "source": [
    "df[['tyytyväisyys','käyttö']][df['käyttö']>=3]"
   ]
  },
  {
   "cell_type": "code",
   "execution_count": null,
   "metadata": {},
   "outputs": [],
   "source": [
    "df[['palkka','palkkat']].sort_values(by='palkka').head()"
   ]
  },
  {
   "cell_type": "code",
   "execution_count": null,
   "metadata": {},
   "outputs": [],
   "source": [
    "df[['palkka','palkkat']].sort_values(by='palkka', ascending=False).head()"
   ]
  },
  {
   "cell_type": "code",
   "execution_count": null,
   "metadata": {},
   "outputs": [],
   "source": [
    "df.drop(['nro','ikä','palveluv','palkka'], axis=1).head()"
   ]
  },
  {
   "cell_type": "markdown",
   "metadata": {},
   "source": [
    "<h2>Muutetun datan tallentaminen Excel-muotoon</h2>\n",
    "\n",
    "Jos kansiossa on jo samanniminen tiedosto, niin menetät sen!"
   ]
  },
  {
   "cell_type": "code",
   "execution_count": null,
   "metadata": {},
   "outputs": [],
   "source": [
    "writer = pd.ExcelWriter('valmisteltu.xlsx', engine='xlsxwriter')\n",
    "df.to_excel(writer)\n",
    "writer.save()"
   ]
  }
 ],
 "metadata": {
  "kernelspec": {
   "display_name": "Python 3",
   "language": "python",
   "name": "python3"
  },
  "language_info": {
   "codemirror_mode": {
    "name": "ipython",
    "version": 3
   },
   "file_extension": ".py",
   "mimetype": "text/x-python",
   "name": "python",
   "nbconvert_exporter": "python",
   "pygments_lexer": "ipython3",
   "version": "3.7.0"
  }
 },
 "nbformat": 4,
 "nbformat_minor": 2
}
